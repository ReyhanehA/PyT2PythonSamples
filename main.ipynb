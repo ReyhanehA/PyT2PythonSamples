{
 "cells": [
  {
   "cell_type": "markdown",
   "id": "1510d5cd-3dec-4cf9-8473-dea7e1dd7ff6",
   "metadata": {},
   "source": [
    "# Caculating F-Score of Semgrep and Bandit"
   ]
  },
  {
   "cell_type": "code",
   "execution_count": 11,
   "id": "a6dfc818-87b7-4d39-ade6-cb33db731688",
   "metadata": {},
   "outputs": [],
   "source": [
    "import pandas as pd\n",
    "df = pd.read_excel('labels.xlsx', sheet_name = 'ESB')\n",
    "labels = pd.read_excel('labels.xlsx', sheet_name = 'Mr chekidet labels')"
   ]
  },
  {
   "cell_type": "code",
   "execution_count": 12,
   "id": "d8d5e4fb-c485-42c2-a76e-2795f7255108",
   "metadata": {},
   "outputs": [
    {
     "data": {
      "text/plain": [
       "array([nan, nan, '2-25(CF1)', '3-1(DC)', '3-15(CI)', '3-30(CI)',\n",
       "       '3-30(PT)', '3-38(CF1)', '4-1(DC)', '4-22(CI)', '4-31(PT)',\n",
       "       '4-31(CI)', '4-39(CF1)', '5-13(CI)', '6-1(DC)', '6-16(CI)', nan,\n",
       "       nan, nan, nan, nan, '12-17(CF1)', '13-12(CI)', '14-15(CF1)',\n",
       "       '15-1(DC)', '15-16(CI)', '15-21(CF1)'], dtype=object)"
      ]
     },
     "execution_count": 12,
     "metadata": {},
     "output_type": "execute_result"
    }
   ],
   "source": [
    "band = df['Vulline Bandit'].str.split(',').explode()\n",
    "bandpreds = (band.index.astype(str) + '-' + band).values\n",
    "bandpreds"
   ]
  },
  {
   "cell_type": "code",
   "execution_count": 13,
   "id": "d0f522e8-beaa-448c-8745-10d0a0497137",
   "metadata": {},
   "outputs": [
    {
     "data": {
      "text/plain": [
       "array([nan, nan, '2-25(CF1)', '3-38(CF1)', '3-15(CI)', '4-39(CF1)',\n",
       "       '4-22(CI)', nan, '6-16(CI)', nan, nan, nan, nan, nan, '12-17(CF1)',\n",
       "       nan, '14-15(CF1)', '14-11(XSS)', '15-21(CF1)', '15-16(CI)'],\n",
       "      dtype=object)"
      ]
     },
     "execution_count": 13,
     "metadata": {},
     "output_type": "execute_result"
    }
   ],
   "source": [
    "sem = df['Vulline semgrep'].str.split(',').explode()\n",
    "sempreds = (sem.index.astype(str) + '-' + sem).values\n",
    "sempreds"
   ]
  },
  {
   "cell_type": "code",
   "execution_count": 14,
   "id": "0b1aa540-f048-47db-bb3a-db5e835f33ca",
   "metadata": {},
   "outputs": [
    {
     "data": {
      "text/plain": [
       "array([nan, '1-4(XSS)', '1-5(XSS)', '2-25(DT)', '3-14(CI)', '3-15(CI)',\n",
       "       '3-38(DT)', '4-19(CI)', '4-21(CI)', '4-22(CI)', '4-39(DT)',\n",
       "       '5-7(CI)', '5-9(CI)', '5-10(CI)', '5-11(CI)', '6-14(CI)',\n",
       "       '6-16(CI)', nan, nan, nan, nan, nan, '12-10(XSS)', '12-12(XSS)',\n",
       "       '12-17(DT)', '13-12(CI)', '13-14(CI)', '13-17(CI)', '14-6(XSS)',\n",
       "       '14-11(XSS)', '14-15(DT)', '15-8(CI)', '15-9(CI)', '15-10(CI)',\n",
       "       '15-15(CI)', '15-16(CI)', '15-17(CI)', '15-21(DT)'], dtype=object)"
      ]
     },
     "execution_count": 14,
     "metadata": {},
     "output_type": "execute_result"
    }
   ],
   "source": [
    "exploded_labels = labels['Vulline'].str.split(',').explode()\n",
    "dist_labels = (exploded_labels.index.astype(str) + '-' + exploded_labels).values\n",
    "dist_labels"
   ]
  },
  {
   "cell_type": "code",
   "execution_count": 15,
   "id": "a9224659-5f64-4c65-ac5f-62dd97560d6a",
   "metadata": {},
   "outputs": [],
   "source": [
    "def my_rec(labels, preds):\n",
    "    rec_samples = [x for x in preds if x in labels]\n",
    "    return len(rec_samples)/len(labels)\n",
    "\n",
    "def my_pre(labels, preds):\n",
    "    rec_samples = [x for x in preds if x in labels]\n",
    "    if len(preds) == 0:\n",
    "        return 0\n",
    "    return len(rec_samples)/len(preds)"
   ]
  },
  {
   "cell_type": "code",
   "execution_count": 16,
   "id": "878f9317-4f8a-49ef-a084-14128e506744",
   "metadata": {},
   "outputs": [],
   "source": [
    "def bench_it(labels, preds, attack = ''):\n",
    "    labels = [x for x in labels if attack.lower() in x.lower()]\n",
    "    preds = [x for x in preds if attack.lower() in x.lower()]\n",
    "    pre = my_pre(labels, preds)\n",
    "    rec = my_rec(labels, preds)\n",
    "    if (pre + rec) == 0:\n",
    "        return [pre, rec, 0]\n",
    "    def f1(precision, recall):\n",
    "        return 2 * (precision * recall) / (precision + recall)\n",
    "    return [pre, rec, f1(pre, rec)]"
   ]
  },
  {
   "cell_type": "markdown",
   "id": "8ea0c8bf-8cd7-49d1-867c-2b7bb99be767",
   "metadata": {},
   "source": [
    "# About DataSet"
   ]
  },
  {
   "cell_type": "code",
   "execution_count": 17,
   "id": "b3770042-ce7a-44af-b5ee-83716cfe9854",
   "metadata": {},
   "outputs": [],
   "source": [
    "labels_dist = exploded_labels.str.extract('\\((.*)\\)')[0].value_counts()"
   ]
  },
  {
   "cell_type": "code",
   "execution_count": 18,
   "id": "c9798a4a-07d1-4e73-b472-860194fc22fd",
   "metadata": {
    "tags": []
   },
   "outputs": [],
   "source": [
    "def full_bench(preds):\n",
    "    atts = list(labels_dist.index)\n",
    "    atts.append('')\n",
    "    sems = []\n",
    "    for attack in atts:\n",
    "        temp = bench_it(dist_labels, preds, attack)\n",
    "        temp.extend([attack if attack != '' else 'all', labels_dist[attack] if attack != '' else sum(labels_dist)])\n",
    "        sems.append(temp)\n",
    "    df = pd.DataFrame(sems, columns = ['Precision', 'Recall', 'F1-Score', 'Attack', 'Support'])\n",
    "    df = df.set_index('Attack')\n",
    "    return df"
   ]
  },
  {
   "cell_type": "code",
   "execution_count": 19,
   "id": "fe92ca63-30d8-4c15-a82d-58d4fdd7da5e",
   "metadata": {},
   "outputs": [
    {
     "ename": "AttributeError",
     "evalue": "'float' object has no attribute 'lower'",
     "output_type": "error",
     "traceback": [
      "\u001b[1;31m---------------------------------------------------------------------------\u001b[0m",
      "\u001b[1;31mAttributeError\u001b[0m                            Traceback (most recent call last)",
      "\u001b[1;32m<ipython-input-19-7aef0740a606>\u001b[0m in \u001b[0;36m<module>\u001b[1;34m\u001b[0m\n\u001b[1;32m----> 1\u001b[1;33m \u001b[0mfull_bench\u001b[0m\u001b[1;33m(\u001b[0m\u001b[0mbandpreds\u001b[0m\u001b[1;33m)\u001b[0m\u001b[1;33m\u001b[0m\u001b[1;33m\u001b[0m\u001b[0m\n\u001b[0m",
      "\u001b[1;32m<ipython-input-18-40eb0beb514a>\u001b[0m in \u001b[0;36mfull_bench\u001b[1;34m(preds)\u001b[0m\n\u001b[0;32m      4\u001b[0m     \u001b[0msems\u001b[0m \u001b[1;33m=\u001b[0m \u001b[1;33m[\u001b[0m\u001b[1;33m]\u001b[0m\u001b[1;33m\u001b[0m\u001b[1;33m\u001b[0m\u001b[0m\n\u001b[0;32m      5\u001b[0m     \u001b[1;32mfor\u001b[0m \u001b[0mattack\u001b[0m \u001b[1;32min\u001b[0m \u001b[0matts\u001b[0m\u001b[1;33m:\u001b[0m\u001b[1;33m\u001b[0m\u001b[1;33m\u001b[0m\u001b[0m\n\u001b[1;32m----> 6\u001b[1;33m         \u001b[0mtemp\u001b[0m \u001b[1;33m=\u001b[0m \u001b[0mbench_it\u001b[0m\u001b[1;33m(\u001b[0m\u001b[0mdist_labels\u001b[0m\u001b[1;33m,\u001b[0m \u001b[0mpreds\u001b[0m\u001b[1;33m,\u001b[0m \u001b[0mattack\u001b[0m\u001b[1;33m)\u001b[0m\u001b[1;33m\u001b[0m\u001b[1;33m\u001b[0m\u001b[0m\n\u001b[0m\u001b[0;32m      7\u001b[0m         \u001b[0mtemp\u001b[0m\u001b[1;33m.\u001b[0m\u001b[0mextend\u001b[0m\u001b[1;33m(\u001b[0m\u001b[1;33m[\u001b[0m\u001b[0mattack\u001b[0m \u001b[1;32mif\u001b[0m \u001b[0mattack\u001b[0m \u001b[1;33m!=\u001b[0m \u001b[1;34m''\u001b[0m \u001b[1;32melse\u001b[0m \u001b[1;34m'all'\u001b[0m\u001b[1;33m,\u001b[0m \u001b[0mlabels_dist\u001b[0m\u001b[1;33m[\u001b[0m\u001b[0mattack\u001b[0m\u001b[1;33m]\u001b[0m \u001b[1;32mif\u001b[0m \u001b[0mattack\u001b[0m \u001b[1;33m!=\u001b[0m \u001b[1;34m''\u001b[0m \u001b[1;32melse\u001b[0m \u001b[0msum\u001b[0m\u001b[1;33m(\u001b[0m\u001b[0mlabels_dist\u001b[0m\u001b[1;33m)\u001b[0m\u001b[1;33m]\u001b[0m\u001b[1;33m)\u001b[0m\u001b[1;33m\u001b[0m\u001b[1;33m\u001b[0m\u001b[0m\n\u001b[0;32m      8\u001b[0m         \u001b[0msems\u001b[0m\u001b[1;33m.\u001b[0m\u001b[0mappend\u001b[0m\u001b[1;33m(\u001b[0m\u001b[0mtemp\u001b[0m\u001b[1;33m)\u001b[0m\u001b[1;33m\u001b[0m\u001b[1;33m\u001b[0m\u001b[0m\n",
      "\u001b[1;32m<ipython-input-16-5bfd937a81f6>\u001b[0m in \u001b[0;36mbench_it\u001b[1;34m(labels, preds, attack)\u001b[0m\n\u001b[0;32m      1\u001b[0m \u001b[1;32mdef\u001b[0m \u001b[0mbench_it\u001b[0m\u001b[1;33m(\u001b[0m\u001b[0mlabels\u001b[0m\u001b[1;33m,\u001b[0m \u001b[0mpreds\u001b[0m\u001b[1;33m,\u001b[0m \u001b[0mattack\u001b[0m \u001b[1;33m=\u001b[0m \u001b[1;34m''\u001b[0m\u001b[1;33m)\u001b[0m\u001b[1;33m:\u001b[0m\u001b[1;33m\u001b[0m\u001b[1;33m\u001b[0m\u001b[0m\n\u001b[1;32m----> 2\u001b[1;33m     \u001b[0mlabels\u001b[0m \u001b[1;33m=\u001b[0m \u001b[1;33m[\u001b[0m\u001b[0mx\u001b[0m \u001b[1;32mfor\u001b[0m \u001b[0mx\u001b[0m \u001b[1;32min\u001b[0m \u001b[0mlabels\u001b[0m \u001b[1;32mif\u001b[0m \u001b[0mattack\u001b[0m\u001b[1;33m.\u001b[0m\u001b[0mlower\u001b[0m\u001b[1;33m(\u001b[0m\u001b[1;33m)\u001b[0m \u001b[1;32min\u001b[0m \u001b[0mx\u001b[0m\u001b[1;33m.\u001b[0m\u001b[0mlower\u001b[0m\u001b[1;33m(\u001b[0m\u001b[1;33m)\u001b[0m\u001b[1;33m]\u001b[0m\u001b[1;33m\u001b[0m\u001b[1;33m\u001b[0m\u001b[0m\n\u001b[0m\u001b[0;32m      3\u001b[0m     \u001b[0mpreds\u001b[0m \u001b[1;33m=\u001b[0m \u001b[1;33m[\u001b[0m\u001b[0mx\u001b[0m \u001b[1;32mfor\u001b[0m \u001b[0mx\u001b[0m \u001b[1;32min\u001b[0m \u001b[0mpreds\u001b[0m \u001b[1;32mif\u001b[0m \u001b[0mattack\u001b[0m\u001b[1;33m.\u001b[0m\u001b[0mlower\u001b[0m\u001b[1;33m(\u001b[0m\u001b[1;33m)\u001b[0m \u001b[1;32min\u001b[0m \u001b[0mx\u001b[0m\u001b[1;33m.\u001b[0m\u001b[0mlower\u001b[0m\u001b[1;33m(\u001b[0m\u001b[1;33m)\u001b[0m\u001b[1;33m]\u001b[0m\u001b[1;33m\u001b[0m\u001b[1;33m\u001b[0m\u001b[0m\n\u001b[0;32m      4\u001b[0m     \u001b[0mpre\u001b[0m \u001b[1;33m=\u001b[0m \u001b[0mmy_pre\u001b[0m\u001b[1;33m(\u001b[0m\u001b[0mlabels\u001b[0m\u001b[1;33m,\u001b[0m \u001b[0mpreds\u001b[0m\u001b[1;33m)\u001b[0m\u001b[1;33m\u001b[0m\u001b[1;33m\u001b[0m\u001b[0m\n\u001b[0;32m      5\u001b[0m     \u001b[0mrec\u001b[0m \u001b[1;33m=\u001b[0m \u001b[0mmy_rec\u001b[0m\u001b[1;33m(\u001b[0m\u001b[0mlabels\u001b[0m\u001b[1;33m,\u001b[0m \u001b[0mpreds\u001b[0m\u001b[1;33m)\u001b[0m\u001b[1;33m\u001b[0m\u001b[1;33m\u001b[0m\u001b[0m\n",
      "\u001b[1;32m<ipython-input-16-5bfd937a81f6>\u001b[0m in \u001b[0;36m<listcomp>\u001b[1;34m(.0)\u001b[0m\n\u001b[0;32m      1\u001b[0m \u001b[1;32mdef\u001b[0m \u001b[0mbench_it\u001b[0m\u001b[1;33m(\u001b[0m\u001b[0mlabels\u001b[0m\u001b[1;33m,\u001b[0m \u001b[0mpreds\u001b[0m\u001b[1;33m,\u001b[0m \u001b[0mattack\u001b[0m \u001b[1;33m=\u001b[0m \u001b[1;34m''\u001b[0m\u001b[1;33m)\u001b[0m\u001b[1;33m:\u001b[0m\u001b[1;33m\u001b[0m\u001b[1;33m\u001b[0m\u001b[0m\n\u001b[1;32m----> 2\u001b[1;33m     \u001b[0mlabels\u001b[0m \u001b[1;33m=\u001b[0m \u001b[1;33m[\u001b[0m\u001b[0mx\u001b[0m \u001b[1;32mfor\u001b[0m \u001b[0mx\u001b[0m \u001b[1;32min\u001b[0m \u001b[0mlabels\u001b[0m \u001b[1;32mif\u001b[0m \u001b[0mattack\u001b[0m\u001b[1;33m.\u001b[0m\u001b[0mlower\u001b[0m\u001b[1;33m(\u001b[0m\u001b[1;33m)\u001b[0m \u001b[1;32min\u001b[0m \u001b[0mx\u001b[0m\u001b[1;33m.\u001b[0m\u001b[0mlower\u001b[0m\u001b[1;33m(\u001b[0m\u001b[1;33m)\u001b[0m\u001b[1;33m]\u001b[0m\u001b[1;33m\u001b[0m\u001b[1;33m\u001b[0m\u001b[0m\n\u001b[0m\u001b[0;32m      3\u001b[0m     \u001b[0mpreds\u001b[0m \u001b[1;33m=\u001b[0m \u001b[1;33m[\u001b[0m\u001b[0mx\u001b[0m \u001b[1;32mfor\u001b[0m \u001b[0mx\u001b[0m \u001b[1;32min\u001b[0m \u001b[0mpreds\u001b[0m \u001b[1;32mif\u001b[0m \u001b[0mattack\u001b[0m\u001b[1;33m.\u001b[0m\u001b[0mlower\u001b[0m\u001b[1;33m(\u001b[0m\u001b[1;33m)\u001b[0m \u001b[1;32min\u001b[0m \u001b[0mx\u001b[0m\u001b[1;33m.\u001b[0m\u001b[0mlower\u001b[0m\u001b[1;33m(\u001b[0m\u001b[1;33m)\u001b[0m\u001b[1;33m]\u001b[0m\u001b[1;33m\u001b[0m\u001b[1;33m\u001b[0m\u001b[0m\n\u001b[0;32m      4\u001b[0m     \u001b[0mpre\u001b[0m \u001b[1;33m=\u001b[0m \u001b[0mmy_pre\u001b[0m\u001b[1;33m(\u001b[0m\u001b[0mlabels\u001b[0m\u001b[1;33m,\u001b[0m \u001b[0mpreds\u001b[0m\u001b[1;33m)\u001b[0m\u001b[1;33m\u001b[0m\u001b[1;33m\u001b[0m\u001b[0m\n\u001b[0;32m      5\u001b[0m     \u001b[0mrec\u001b[0m \u001b[1;33m=\u001b[0m \u001b[0mmy_rec\u001b[0m\u001b[1;33m(\u001b[0m\u001b[0mlabels\u001b[0m\u001b[1;33m,\u001b[0m \u001b[0mpreds\u001b[0m\u001b[1;33m)\u001b[0m\u001b[1;33m\u001b[0m\u001b[1;33m\u001b[0m\u001b[0m\n",
      "\u001b[1;31mAttributeError\u001b[0m: 'float' object has no attribute 'lower'"
     ]
    }
   ],
   "source": [
    "full_bench(bandpreds)"
   ]
  },
  {
   "cell_type": "code",
   "execution_count": null,
   "id": "02b98d7b-bc59-43a2-8926-581bb00957ba",
   "metadata": {},
   "outputs": [],
   "source": [
    "len(set('20, 22, 23, 36, 73, 74, 77, 78, 79, 88, 89, 90, 91, 93, 94, 95, 99, 113, 116, 117, 185, 186, 200, 209, 215, 221, 227, 252, 259, 284, 285, 287, 295, 311, 312, 315, 321, 326, 327, 328, 330, 338, 340, 344, 345, 347, 348, 352, 359, 377, 390, 396, 398, 400, 404, 405, 409, 441, 477, 485, 489, 497, 502, 522, 523, 532, 538, 552, 561, 563, 570, 571, 573, 581, 584, 601, 610, 611, 614, 628, 642, 643, 657, 664, 665, 668, 669, 670, 671, 674, 685, 687, 691, 693, 697, 703, 705, 706, 707, 710, 732, 754, 755, 772, 776, 798, 827, 829, 834, 913, 916, 918, 922, 943, 1236, 1333'.split()))"
   ]
  },
  {
   "cell_type": "code",
   "execution_count": null,
   "id": "bd0a0782-f4d3-41b3-bff4-28515af56419",
   "metadata": {},
   "outputs": [],
   "source": [
    "link = 'https://semgrep.dev/p/default'\n",
    "import requests\n",
    "requests.get(link).text"
   ]
  },
  {
   "cell_type": "code",
   "execution_count": null,
   "id": "18db27c3-3016-4c8f-91c7-5ca41c03e9a3",
   "metadata": {},
   "outputs": [],
   "source": []
  }
 ],
 "metadata": {
  "kernelspec": {
   "display_name": "Python 3",
   "language": "python",
   "name": "python3"
  },
  "language_info": {
   "codemirror_mode": {
    "name": "ipython",
    "version": 3
   },
   "file_extension": ".py",
   "mimetype": "text/x-python",
   "name": "python",
   "nbconvert_exporter": "python",
   "pygments_lexer": "ipython3",
   "version": "3.8.8"
  }
 },
 "nbformat": 4,
 "nbformat_minor": 5
}
